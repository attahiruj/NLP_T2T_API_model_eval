{
 "cells": [
  {
   "cell_type": "code",
   "execution_count": 104,
   "metadata": {},
   "outputs": [],
   "source": [
    "import pandas as pd\n",
    "import glob\n",
    "import re"
   ]
  },
  {
   "cell_type": "code",
   "execution_count": 108,
   "metadata": {},
   "outputs": [],
   "source": [
    "!pip3 freeze > requirements.txt"
   ]
  },
  {
   "cell_type": "code",
   "execution_count": 88,
   "metadata": {},
   "outputs": [],
   "source": [
    "files = glob.glob(\"./data/*.txt\")\n",
    "lines = []\n",
    "for i in range(len(files)):\n",
    "\twith open(files[i]) as f:\n",
    "\t\tlines += f.readlines()"
   ]
  },
  {
   "cell_type": "code",
   "execution_count": 89,
   "metadata": {},
   "outputs": [],
   "source": [
    "def remove_numbers(text):\n",
    "\t# Define regex pattern to match numbers followed by a dot and space\n",
    "\tpattern = r'^\\d+\\.\\s+'\n",
    "\t# Replace matched pattern with an empty string\n",
    "\tcleaned_text = re.sub(pattern, '', text)\n",
    "\tcleaned_text = re.sub('\"', '', cleaned_text)\n",
    "\tcleaned_text = re.sub('\\'', \"'\", cleaned_text)\n",
    "\treturn cleaned_text.strip('\\n')\n",
    "\n"
   ]
  },
  {
   "cell_type": "code",
   "execution_count": 101,
   "metadata": {},
   "outputs": [],
   "source": [
    "lines = [remove_numbers(line) for line in lines if line != '\\n']\n",
    "test_data_file = './data/eng_test_data.txt'\n",
    "\n",
    "for line in lines:\n",
    "\twith open(test_data_file, 'a') as file:\n",
    "\t\tfile.write(line + '\\n')\n"
   ]
  },
  {
   "cell_type": "code",
   "execution_count": 91,
   "metadata": {},
   "outputs": [],
   "source": [
    "test_data = pd.read_csv(test_data_file, delimiter='*', header=None)\n",
    "test_data = test_data.drop_duplicates().reset_index()"
   ]
  },
  {
   "cell_type": "code",
   "execution_count": 5,
   "metadata": {},
   "outputs": [],
   "source": [
    "api_endpoint = 'http://10.10.45.1:1405/multilang-translate'\n",
    "\n",
    "\n",
    "text_data = ['Citizens are demanding accountability from their leaders and an end to corruption.',\n",
    "\t\t\t\t'I\\'m thinking of simplifying my life.']"
   ]
  },
  {
   "cell_type": "code",
   "execution_count": 6,
   "metadata": {},
   "outputs": [],
   "source": [
    "import requests\n",
    "import json\n",
    "\n",
    "def batch_translate(text_data: list, from_lang: str='english', to_lang: str='pigin') -> list:\n",
    "\t\"\"\"\n",
    "\tTranslates a list of text strings from one language to another using the multilang-translate API.\n",
    "\n",
    "\tArgs:\n",
    "\t\ttext_data (list): a list of text strings to be translated\n",
    "\t\tfrom_lang (str, optional): the language of the input text, defaults to 'english'\n",
    "\t\tto_lang (str, optional): the language to which the text should be translated, defaults to 'pigin'\n",
    "\n",
    "\tReturns:\n",
    "\t\tlist: a list of translated text strings\n",
    "\n",
    "\tRaises:\n",
    "\t\tValueError: if the input language or output language is not supported\n",
    "\t\"\"\"\n",
    "\ttranslations = []\n",
    "\tlanguages = ['english', 'pigin', 'hausa', 'igbo', 'yoruba']\n",
    "\theaders = {\n",
    "\t\t'content-type' : 'application/json',\n",
    "\t}\n",
    "\tassert from_lang in languages and to_lang in languages, \\\n",
    "\t\tf'lang must be english, pigin, hausa, igbo or yoruba, got {from_lang, to_lang}'\n",
    "\n",
    "\tassert type(text_data) == list, f'text_data must be a list'\n",
    "\n",
    "\tfor i in range(len(text_data)):\n",
    "\t\tline = text_data[i]\n",
    "\t\tpayload = dict(text = line, from_ = from_lang, to_ = to_lang)\n",
    "\t\tresponse = requests.post(api_endpoint, json=payload, headers=headers)\n",
    "\t\tif response.status_code == 200:\n",
    "\t\t\ttry:\n",
    "\t\t\t\tresponse = json.loads(response.text)\n",
    "\t\t\t\ttranslations.append(response['translated'])\n",
    "\t\t\texcept Exception as e:\n",
    "\t\t\t\tprint(f'An exception occured {e}')\n",
    "\t\telse:\n",
    "\t\t\tprint(f'Cant reach API, error code-> {response.status_code}')\n",
    "\tprint(f'Translation Completed')\n",
    "\treturn translations"
   ]
  },
  {
   "cell_type": "code",
   "execution_count": 7,
   "metadata": {},
   "outputs": [],
   "source": [
    "hausa_text = [\n",
    "\t\"su ke ciyar da shi su ke shayar da shi har sai yaro ya zama mutum sosai\",\n",
    "\t\"mutanensa suna binsa, har ya iso kusa da sarki\",\n",
    "\t\"Asalin hausawa an ce, wadansu mutane ne, wa da kane, suka zo daga kasal larabawa da matan su biu. Su ka zamna wani jeji kusa da kasal barno, sunansa gabi, su ka yi bukoki, su ka yi shimge, su na halbin namun jeji, don su ma-halba ne. Yau, mutane kuwa su na zua daga barno, su na sayasayar nama, kuma su na zua daga wasu gurare, su na sayasaya, har gun nan ya zama gari-gari. Su na nan, har matar kanen nan ta haifi ya, su ka sa ma ta suna fetsima, amma su na yi ma ta lakabi dauratu da larabci, shi ne kewaya, kaman sun ce, su na yin kewayal duniya, har su ka zo gabi su ka haife ta.\",\n",
    "\t\"idan yaran suka shekara bakwai sai a sa su a makaranta\",\n",
    "\t\"kowa ya sani cewa duk duniyan nan babu sana'ar da ta fi noma wuya\",\n",
    "\t\"ina yin kuka saboda gajiya\"\n",
    "]\n",
    "english_text = [\n",
    "    \"they give him food and drink until the boy is a grown man\",\n",
    "    \"his people followed him, as long as he had not approached the emperor\",\n",
    "    \"It is said that the origin of the Hausa was thus. Some people, an elder brother and a younger brother, came from Arab countries with their wives. They settled in a wild place not far from the country of Bornu. This place was called Gabi. Here they built huts and put up a fence, They hunted wild animals, because they were hunters. People came from Bornu and from other places and bought meat from them. In the end, the place was turned into a town. They lived there until the wife of the younger brother bore a girl. To this girl they gave the name Fatsima and as well as this, the nickname Daurata which means ‘circle’ in Arabic. They said that they had wandered about in the world until they came to Gabi and this girl was born.\",\n",
    "    \"when boys have completed their seventh year, they are sent to school\",\n",
    "    \"everyone knows that there is no heavier work on earth than agriculture\",\n",
    "\t\"I wept for tiredness\"\"they give him food and drink until the boy is a grown man\"\n",
    "]\n",
    "\n",
    "hausa_text_model = []\n"
   ]
  },
  {
   "cell_type": "code",
   "execution_count": 8,
   "metadata": {},
   "outputs": [
    {
     "name": "stdout",
     "output_type": "stream",
     "text": [
      "Translation Completed\n",
      "['suna ba shi abinci da sha har sai yaron ya girma', 'Mutanensa sun bi shi, muddin bai kusanci sarki ba', 'An ce asalin Hausa ne. Wasu mutane, babban dan uwansu da dan uwansu, sun fito ne daga kasashen Larabawa tare da matansu. Sun zauna a wani wuri na daji da ke da nisa da kasar Bornu. Ana. Anan suka gina kwanton gida suka sanya shingen shingen, suna farautar dabbobin daji, domin masu farauta ne. Mutane daga Bornu da sauran wurare sun sayi nama daga gare su. A karshe sai aka y. Ga wannan yarinyar sun ba da sunan Fatsima kuma da wannan, sunan Daurata wanda ke nufin ‘zagaye’ a harshen Larabci. Sun ce sun yi yawo a duniya har sai sun zo Gabi kuma an haifi wannan yarin', 'idan yara sun gama shekaru bakwai, a tura su zuwa makaranta', 'kowa ya san cewa babu wani aiki mai nauyi a duniya fiye da noma', 'Na yi kuka domin gajiya suna ba shi abinci da sha har sai yaron ya girma']\n"
     ]
    }
   ],
   "source": [
    "hausa_text_model = batch_translate(english_text, 'english', 'hausa')\n",
    "print(hausa_text_model)"
   ]
  },
  {
   "cell_type": "code",
   "execution_count": 49,
   "metadata": {},
   "outputs": [],
   "source": [
    "def split_to_words(sentences: list):\n",
    "\tsplitted = []\n",
    "\tfor line in sentences:\n",
    "\t\tline = line.replace(',', '')\n",
    "\t\tline = line.replace('.', '')\n",
    "\t\tline = line.split(' ')\n",
    "\t\tsplitted.append(line)\n",
    "\treturn splitted\n"
   ]
  },
  {
   "cell_type": "code",
   "execution_count": 81,
   "metadata": {},
   "outputs": [
    {
     "data": {
      "text/plain": [
       "0.041420117020606995"
      ]
     },
     "execution_count": 81,
     "metadata": {},
     "output_type": "execute_result"
    }
   ],
   "source": [
    "# https://pytorch.org/text/stable/data_metrics.html\n",
    "\n",
    "from torchtext.data.metrics import bleu_score\n",
    "\n",
    "candidate_corpus = split_to_words(hausa_text_model)\n",
    "references_corpus = split_to_words(hausa_text)\n",
    "\n",
    "bleu_score(candidate_corpus, references_corpus, 1, weights=[1.0])\n"
   ]
  }
 ],
 "metadata": {
  "kernelspec": {
   "display_name": "ML-AI",
   "language": "python",
   "name": "python3"
  },
  "language_info": {
   "codemirror_mode": {
    "name": "ipython",
    "version": 3
   },
   "file_extension": ".py",
   "mimetype": "text/x-python",
   "name": "python",
   "nbconvert_exporter": "python",
   "pygments_lexer": "ipython3",
   "version": "3.12.1"
  }
 },
 "nbformat": 4,
 "nbformat_minor": 2
}
